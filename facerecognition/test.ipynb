{
 "cells": [
  {
   "cell_type": "code",
   "execution_count": 1,
   "id": "97cd7c5a",
   "metadata": {},
   "outputs": [
    {
     "name": "stderr",
     "output_type": "stream",
     "text": [
      "/home/abolfazl/anaconda3/envs/20Q/lib/python3.8/site-packages/torch/cuda/__init__.py:82: UserWarning: CUDA initialization: CUDA unknown error - this may be due to an incorrectly set up environment, e.g. changing env variable CUDA_VISIBLE_DEVICES after program start. Setting the available devices to be zero. (Triggered internally at  /opt/conda/conda-bld/pytorch_1646755903507/work/c10/cuda/CUDAFunctions.cpp:112.)\n",
      "  return torch._C._cuda_getDeviceCount() > 0\n"
     ]
    },
    {
     "name": "stdout",
     "output_type": "stream",
     "text": [
      "Running on device: cpu\n"
     ]
    },
    {
     "name": "stderr",
     "output_type": "stream",
     "text": [
      "/home/abolfazl/anaconda3/envs/20Q/lib/python3.8/site-packages/mmcv/__init__.py:20: UserWarning: On January 1, 2023, MMCV will release v2.0.0, in which it will remove components related to the training process and add a data transformation module. In addition, it will rename the package names mmcv to mmcv-lite and mmcv-full to mmcv. See https://github.com/open-mmlab/mmcv/blob/master/docs/en/compatibility.md for more details.\n",
      "  warnings.warn(\n"
     ]
    }
   ],
   "source": [
    "from facenet_pytorch import MTCNN, InceptionResnetV1\n",
    "import torch\n",
    "import numpy as np\n",
    "import mmcv, cv2\n",
    "from PIL import Image, ImageDraw\n",
    "from IPython import display\n",
    "import face_detector as fd"
   ]
  },
  {
   "cell_type": "code",
   "execution_count": 2,
   "id": "422e3c97",
   "metadata": {},
   "outputs": [
    {
     "name": "stdout",
     "output_type": "stream",
     "text": [
      "Running on device: cpu\n"
     ]
    }
   ],
   "source": [
    "device = torch.device('cuda:0' if torch.cuda.is_available() else 'cpu')\n",
    "print('Running on device: {}'.format(device))"
   ]
  },
  {
   "cell_type": "code",
   "execution_count": 3,
   "id": "34fff98d",
   "metadata": {},
   "outputs": [],
   "source": [
    "embeddings_all = torch.load('./Models/detection/embeddings_all.pt')"
   ]
  },
  {
   "cell_type": "code",
   "execution_count": 4,
   "id": "55d6ba2a",
   "metadata": {},
   "outputs": [
    {
     "data": {
      "text/plain": [
       "torch.Size([117, 512])"
      ]
     },
     "execution_count": 4,
     "metadata": {},
     "output_type": "execute_result"
    }
   ],
   "source": [
    "embeddings_all.shape"
   ]
  },
  {
   "cell_type": "code",
   "execution_count": 5,
   "id": "c7bf4afe",
   "metadata": {},
   "outputs": [],
   "source": [
    "#mtcnn = MTCNN(keep_all=True, device=device)\n",
    "mtcnn = MTCNN(\n",
    "    image_size=160, margin=0, min_face_size=20,\n",
    "    thresholds=[0.6, 0.7, 0.7], factor=0.709, post_process=True,\n",
    "    device=device)\n",
    "# mtcnn = fd.load_model()\n",
    "resnet = InceptionResnetV1(pretrained='vggface2').eval().to(device)"
   ]
  },
  {
   "cell_type": "code",
   "execution_count": 7,
   "id": "647c826b",
   "metadata": {},
   "outputs": [
    {
     "name": "stdout",
     "output_type": "stream",
     "text": [
      "1\n",
      "Rezvan\n",
      "----------------------------------------------------------\n",
      "1\n",
      "Rezvan\n",
      "----------------------------------------------------------\n",
      "1\n",
      "Rezvan\n",
      "----------------------------------------------------------\n",
      "1\n",
      "Rezvan\n",
      "----------------------------------------------------------\n",
      "1\n",
      "Rezvan\n",
      "----------------------------------------------------------\n",
      "1\n",
      "Rezvan\n",
      "----------------------------------------------------------\n",
      "1\n",
      "Rezvan\n",
      "----------------------------------------------------------\n",
      "1\n",
      "Rezvan\n",
      "----------------------------------------------------------\n",
      "1\n",
      "Rezvan\n",
      "----------------------------------------------------------\n",
      "1\n",
      "Rezvan\n",
      "----------------------------------------------------------\n",
      "1\n",
      "Rezvan\n",
      "----------------------------------------------------------\n",
      "1\n",
      "Rezvan\n",
      "----------------------------------------------------------\n",
      "1\n",
      "Rezvan\n",
      "----------------------------------------------------------\n",
      "1\n",
      "Rezvan\n",
      "----------------------------------------------------------\n",
      "1\n",
      "Rezvan\n",
      "----------------------------------------------------------\n",
      "1\n",
      "Rezvan\n",
      "----------------------------------------------------------\n",
      "1\n",
      "Rezvan\n",
      "----------------------------------------------------------\n",
      "1\n",
      "Rezvan\n",
      "----------------------------------------------------------\n",
      "1\n",
      "Fatemeh\n",
      "----------------------------------------------------------\n",
      "1\n",
      "Fatemeh\n",
      "----------------------------------------------------------\n",
      "1\n",
      "Fatemeh\n",
      "----------------------------------------------------------\n",
      "1\n",
      "Fatemeh\n",
      "----------------------------------------------------------\n",
      "1\n",
      "Fatemeh\n",
      "----------------------------------------------------------\n",
      "1\n",
      "Rezvan\n",
      "----------------------------------------------------------\n"
     ]
    }
   ],
   "source": [
    "import cv2\n",
    "a = True\n",
    "cap = cv2.VideoCapture(0)\n",
    "\n",
    "# Check if the webcam is opened correctly\n",
    "if not cap.isOpened():\n",
    "    raise IOError(\"Cannot open webcam\")\n",
    "\n",
    "while True:\n",
    "    \n",
    "    ret, frame = cap.read()\n",
    "    # boxes, _ = mtcnn.detect(frame)\n",
    "    boxes = fd.detect(frame)\n",
    "    frame_draw = frame.copy()\n",
    "    frame_draw = Image.fromarray(frame_draw)\n",
    "\n",
    "        #######################################################\n",
    "    try:\n",
    "        print(len(boxes))\n",
    "        draw = ImageDraw.Draw(frame_draw)\n",
    "         \n",
    "        \n",
    "        \n",
    "        for i in range (len(boxes)):\n",
    "            draw.rectangle(boxes[i].tolist(), outline=(255, 0, 0), width=6)\n",
    "            #######################################################\n",
    "            \n",
    "            x1 , x2 , x3 , x4= boxes[i]\n",
    "            #print(boxes[i])\n",
    "\n",
    "            im1 = frame_draw.crop((x1, x2, x3, x4))\n",
    "            img = torch.from_numpy(np.array(im1))\n",
    "\n",
    "            #im1\n",
    "            aligned = []\n",
    "            aligned.append(img)\n",
    "            #print(\"Check1\") \n",
    "            aligned = torch.stack(aligned).to(device)\n",
    "\n",
    "            aligned = aligned.permute(0, 3, 1 , 2)  \n",
    "            embeddings = resnet(aligned.float()).detach().cpu()\n",
    "            #######################################################\n",
    "            min_diff = 10\n",
    "            c= -1\n",
    "            for i in range(embeddings_all.shape[0]):\n",
    "                diff = (embeddings_all[i] - embeddings).norm()\n",
    "\n",
    "                if (diff < min_diff):\n",
    "                    #print(min_diff)\n",
    "                    min_diff = diff\n",
    "                    c = i\n",
    "\n",
    "\n",
    "            #######################################################        \n",
    "            if c == -1:\n",
    "                print(\"NO\")\n",
    "            elif (c <= 70):\n",
    "                print(\"Fatemeh\")\n",
    "\n",
    "            elif (c >70 and c < 70+53):\n",
    "                print(\"Rezvan\")\n",
    "            #######################################################\n",
    "\n",
    "        frame = cv2.resize(frame, None, fx=0.5, fy=0.5, interpolation=cv2.INTER_AREA)\n",
    "        cv2.imshow('Input', np.asarray(frame_draw))\n",
    "        \n",
    "        \n",
    "        print(\"----------------------------------------------------------\")\n",
    "        \n",
    "        \n",
    "    except:\n",
    "        cv2.imshow('Input', np.asarray(frame))\n",
    "        cap.release()\n",
    "    c = cv2.waitKey(1)\n",
    "    if c == 27:\n",
    "        cap.release()\n",
    "        break\n",
    "\n",
    "cap.release()\n",
    "cv2.destroyAllWindows()"
   ]
  },
  {
   "cell_type": "code",
   "execution_count": 12,
   "id": "dc724ea5",
   "metadata": {},
   "outputs": [],
   "source": [
    "mtcnn = MTCNN(\n",
    "    image_size=160, margin=0, min_face_size=20,\n",
    "    thresholds=[0.6, 0.7, 0.7], factor=0.709, post_process=True,\n",
    "    device=device)"
   ]
  },
  {
   "cell_type": "code",
   "execution_count": 12,
   "id": "16aed540",
   "metadata": {},
   "outputs": [],
   "source": [
    "boxes, _ = mtcnn.detect(frame)"
   ]
  },
  {
   "cell_type": "code",
   "execution_count": 13,
   "id": "3889d8af",
   "metadata": {},
   "outputs": [
    {
     "data": {
      "text/plain": [
       "1"
      ]
     },
     "execution_count": 13,
     "metadata": {},
     "output_type": "execute_result"
    }
   ],
   "source": [
    "len(boxes)"
   ]
  },
  {
   "cell_type": "code",
   "execution_count": 14,
   "id": "cf964bab",
   "metadata": {},
   "outputs": [
    {
     "data": {
      "text/plain": [
       "4"
      ]
     },
     "execution_count": 14,
     "metadata": {},
     "output_type": "execute_result"
    }
   ],
   "source": [
    "len(boxes[0])"
   ]
  },
  {
   "cell_type": "code",
   "execution_count": 15,
   "id": "42869c2e",
   "metadata": {},
   "outputs": [
    {
     "data": {
      "text/plain": [
       "array([ 71.86169, 100.07597, 173.59802, 237.25018], dtype=float32)"
      ]
     },
     "execution_count": 15,
     "metadata": {},
     "output_type": "execute_result"
    }
   ],
   "source": [
    "boxes[0]"
   ]
  },
  {
   "cell_type": "code",
   "execution_count": 16,
   "id": "19adc62e",
   "metadata": {},
   "outputs": [],
   "source": [
    "x1 , x2 , x3 , x4 = boxes[0]"
   ]
  },
  {
   "cell_type": "code",
   "execution_count": 17,
   "id": "605a8902",
   "metadata": {},
   "outputs": [],
   "source": [
    "im1 = frame_draw.crop((x1, x2, x3, x4))"
   ]
  },
  {
   "cell_type": "code",
   "execution_count": 18,
   "id": "35628c65",
   "metadata": {},
   "outputs": [
    {
     "data": {
      "image/png": "[encoded data removed]",
      "text/plain": [
       "<PIL.Image.Image image mode=RGB size=102x137 at 0x7F98F32301C0>"
      ]
     },
     "execution_count": 18,
     "metadata": {},
     "output_type": "execute_result"
    }
   ],
   "source": [
    "im1"
   ]
  },
  {
   "cell_type": "code",
   "execution_count": 19,
   "id": "08df392d",
   "metadata": {},
   "outputs": [
    {
     "data": {
      "text/plain": [
       "PIL.Image.Image"
      ]
     },
     "execution_count": 19,
     "metadata": {},
     "output_type": "execute_result"
    }
   ],
   "source": [
    "type(im1)"
   ]
  },
  {
   "cell_type": "code",
   "execution_count": 20,
   "id": "2725f695",
   "metadata": {},
   "outputs": [
    {
     "data": {
      "text/plain": [
       "(102, 137)"
      ]
     },
     "execution_count": 20,
     "metadata": {},
     "output_type": "execute_result"
    }
   ],
   "source": [
    "im1.size"
   ]
  },
  {
   "cell_type": "code",
   "execution_count": 21,
   "id": "2a1e4d93",
   "metadata": {},
   "outputs": [],
   "source": [
    "img = torch.from_numpy(np.array(im1))"
   ]
  },
  {
   "cell_type": "code",
   "execution_count": 22,
   "id": "fe0bace6",
   "metadata": {},
   "outputs": [
    {
     "data": {
      "text/plain": [
       "torch.Size([137, 102, 3])"
      ]
     },
     "execution_count": 22,
     "metadata": {},
     "output_type": "execute_result"
    }
   ],
   "source": [
    "img.shape"
   ]
  },
  {
   "cell_type": "code",
   "execution_count": 23,
   "id": "faf49e1d",
   "metadata": {},
   "outputs": [
    {
     "name": "stdout",
     "output_type": "stream",
     "text": [
      "Check1\n"
     ]
    }
   ],
   "source": [
    "#im1\n",
    "aligned = []\n",
    "aligned.append(img)\n",
    "print(\"Check1\") \n",
    "aligned = torch.stack(aligned).to(device)"
   ]
  },
  {
   "cell_type": "code",
   "execution_count": 24,
   "id": "f677c0db",
   "metadata": {},
   "outputs": [
    {
     "data": {
      "text/plain": [
       "torch.Size([1, 137, 102, 3])"
      ]
     },
     "execution_count": 24,
     "metadata": {},
     "output_type": "execute_result"
    }
   ],
   "source": [
    "aligned.shape"
   ]
  },
  {
   "cell_type": "code",
   "execution_count": 25,
   "id": "57698ce9",
   "metadata": {},
   "outputs": [
    {
     "data": {
      "text/plain": [
       "torch.Size([1, 3, 137, 102])"
      ]
     },
     "execution_count": 25,
     "metadata": {},
     "output_type": "execute_result"
    }
   ],
   "source": [
    "aligned = aligned.permute(0, 3, 1 , 2)\n",
    "aligned.shape"
   ]
  },
  {
   "cell_type": "code",
   "execution_count": 26,
   "id": "ef6a69b9",
   "metadata": {},
   "outputs": [
    {
     "data": {
      "text/plain": [
       "torch.Tensor"
      ]
     },
     "execution_count": 26,
     "metadata": {},
     "output_type": "execute_result"
    }
   ],
   "source": [
    "type(aligned)"
   ]
  },
  {
   "cell_type": "code",
   "execution_count": 28,
   "id": "5b15fe84",
   "metadata": {},
   "outputs": [],
   "source": [
    "aligned = aligned.to(torch.int)"
   ]
  },
  {
   "cell_type": "code",
   "execution_count": 29,
   "id": "8705fa64",
   "metadata": {},
   "outputs": [
    {
     "data": {
      "text/plain": [
       "torch.Size([1, 3, 137, 102])"
      ]
     },
     "execution_count": 29,
     "metadata": {},
     "output_type": "execute_result"
    }
   ],
   "source": [
    "aligned.shape"
   ]
  },
  {
   "cell_type": "code",
   "execution_count": 30,
   "id": "4a3781c5",
   "metadata": {},
   "outputs": [
    {
     "name": "stdout",
     "output_type": "stream",
     "text": [
      "Check2\n"
     ]
    }
   ],
   "source": [
    "embeddings = resnet(aligned.float()).detach().cpu()\n",
    "print(\"Check2\")"
   ]
  },
  {
   "cell_type": "code",
   "execution_count": 31,
   "id": "72e83bb2",
   "metadata": {},
   "outputs": [
    {
     "name": "stdout",
     "output_type": "stream",
     "text": [
      "10\n",
      "tensor(1.3976)\n",
      "tensor(1.3904)\n"
     ]
    }
   ],
   "source": [
    "\n",
    "\n",
    "  \n",
    "\n",
    "#######################################################\n",
    "min_diff = 10\n",
    "c= -1\n",
    "for i in range(embeddings_all.shape[0]):\n",
    "    diff = (embeddings_all[i] - embeddings).norm()\n",
    "\n",
    "    if (diff < min_diff):\n",
    "        print(min_diff)\n",
    "        min_diff = diff\n",
    "        c = i\n",
    "\n",
    "\n",
    "#######################################################        \n",
    "if c == -1:\n",
    "    print(\"NO\")\n",
    "elif (c < 10):\n",
    "    print(\"Fatemeh\")\n",
    "\n",
    "elif (c >10 and c < 20):\n",
    "    print(\"Rezvan\")\n",
    "#######################################################"
   ]
  },
  {
   "cell_type": "code",
   "execution_count": 32,
   "id": "ef8edbce",
   "metadata": {},
   "outputs": [],
   "source": [
    "imgw = img.unsqueeze(1) \n"
   ]
  },
  {
   "cell_type": "code",
   "execution_count": 33,
   "id": "a02f8baa",
   "metadata": {},
   "outputs": [
    {
     "data": {
      "text/plain": [
       "torch.Size([137, 1, 102, 3])"
      ]
     },
     "execution_count": 33,
     "metadata": {},
     "output_type": "execute_result"
    }
   ],
   "source": [
    "imgw.shape"
   ]
  },
  {
   "cell_type": "code",
   "execution_count": null,
   "id": "9326140d",
   "metadata": {},
   "outputs": [],
   "source": []
  }
 ],
 "metadata": {
  "interpreter": {
   "hash": "f9f85f796d01129d0dd105a088854619f454435301f6ffec2fea96ecbd9be4ac"
  },
  "kernelspec": {
   "display_name": "Python 3.9.5 64-bit",
   "name": "python3"
  },
  "language_info": {
   "codemirror_mode": {
    "name": "ipython",
    "version": 3
   },
   "file_extension": ".py",
   "mimetype": "text/x-python",
   "name": "python",
   "nbconvert_exporter": "python",
   "pygments_lexer": "ipython3",
   "version": "3.8.13"
  }
 },
 "nbformat": 4,
 "nbformat_minor": 5
}
