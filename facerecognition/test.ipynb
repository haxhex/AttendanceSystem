{
 "cells": [
  {
   "cell_type": "code",
   "execution_count": 2,
   "id": "97cd7c5a",
   "metadata": {},
   "outputs": [
    {
     "name": "stderr",
     "output_type": "stream",
     "text": [
      "/home/abolfazl/anaconda3/envs/20Q/lib/python3.8/site-packages/torch/cuda/__init__.py:82: UserWarning: CUDA initialization: CUDA unknown error - this may be due to an incorrectly set up environment, e.g. changing env variable CUDA_VISIBLE_DEVICES after program start. Setting the available devices to be zero. (Triggered internally at  /opt/conda/conda-bld/pytorch_1646755903507/work/c10/cuda/CUDAFunctions.cpp:112.)\n",
      "  return torch._C._cuda_getDeviceCount() > 0\n",
      "/home/abolfazl/anaconda3/envs/20Q/lib/python3.8/site-packages/mmcv/__init__.py:20: UserWarning: On January 1, 2023, MMCV will release v2.0.0, in which it will remove components related to the training process and add a data transformation module. In addition, it will rename the package names mmcv to mmcv-lite and mmcv-full to mmcv. See https://github.com/open-mmlab/mmcv/blob/master/docs/en/compatibility.md for more details.\n",
      "  warnings.warn(\n"
     ]
    }
   ],
   "source": [
    "from facenet_pytorch import MTCNN, InceptionResnetV1\n",
    "import torch\n",
    "import numpy as np\n",
    "import mmcv, cv2\n",
    "from PIL import Image, ImageDraw\n",
    "from IPython import display\n",
    "from FaceDetector import FaceDetector as fd"
   ]
  },
  {
   "cell_type": "code",
   "execution_count": null,
   "id": "328753eb",
   "metadata": {},
   "outputs": [],
   "source": []
  },
  {
   "cell_type": "code",
   "execution_count": 32,
   "id": "9326140d",
   "metadata": {},
   "outputs": [],
   "source": [
    "image  = cv2.imread('img0.jpg')"
   ]
  },
  {
   "cell_type": "code",
   "execution_count": 33,
   "id": "fd946c6f",
   "metadata": {},
   "outputs": [
    {
     "name": "stdout",
     "output_type": "stream",
     "text": [
      "<class 'numpy.ndarray'>\n"
     ]
    }
   ],
   "source": [
    "print(type(image))"
   ]
  },
  {
   "cell_type": "code",
   "execution_count": 34,
   "id": "bed2393e",
   "metadata": {},
   "outputs": [],
   "source": [
    "img  = Image.fromarray(image)\n",
    "# img = np.array(img)\n",
    "# print(type(img))\n",
    "# print(img.shape)"
   ]
  },
  {
   "cell_type": "code",
   "execution_count": 35,
   "id": "e3c39ef5",
   "metadata": {},
   "outputs": [],
   "source": [
    "mtcnn = MTCNN()\n",
    "fcd = fd(mtcnn)"
   ]
  },
  {
   "cell_type": "code",
   "execution_count": 36,
   "id": "91f17181",
   "metadata": {},
   "outputs": [
    {
     "name": "stdout",
     "output_type": "stream",
     "text": [
      "None\n"
     ]
    }
   ],
   "source": [
    "new = fcd.run(image)\n",
    "print(new)"
   ]
  },
  {
   "cell_type": "code",
   "execution_count": 13,
   "id": "18077692",
   "metadata": {},
   "outputs": [
    {
     "ename": "error",
     "evalue": "OpenCV(4.6.0) /io/opencv/modules/imgcodecs/src/loadsave.cpp:801: error: (-215:Assertion failed) !_img.empty() in function 'imwrite'\n",
     "output_type": "error",
     "traceback": [
      "\u001b[0;31m---------------------------------------------------------------------------\u001b[0m",
      "\u001b[0;31merror\u001b[0m                                     Traceback (most recent call last)",
      "\u001b[1;32m/home/abolfazl/WorkSpace/Uni/Term7/SysDes/AttendanceSystem/facerecognition/test.ipynb Cell 7'\u001b[0m in \u001b[0;36m<cell line: 1>\u001b[0;34m()\u001b[0m\n\u001b[0;32m----> <a href='vscode-notebook-cell:/home/abolfazl/WorkSpace/Uni/Term7/SysDes/AttendanceSystem/facerecognition/test.ipynb#ch0000033?line=0'>1</a>\u001b[0m cv2\u001b[39m.\u001b[39;49mimwrite(\u001b[39m'\u001b[39;49m\u001b[39mnew.jpg\u001b[39;49m\u001b[39m'\u001b[39;49m,new)\n",
      "\u001b[0;31merror\u001b[0m: OpenCV(4.6.0) /io/opencv/modules/imgcodecs/src/loadsave.cpp:801: error: (-215:Assertion failed) !_img.empty() in function 'imwrite'\n"
     ]
    }
   ],
   "source": [
    "cv2.imwrite('new.jpg',new)"
   ]
  },
  {
   "cell_type": "code",
   "execution_count": null,
   "id": "e6109d52",
   "metadata": {},
   "outputs": [],
   "source": []
  }
 ],
 "metadata": {
  "kernelspec": {
   "display_name": "env",
   "language": "python",
   "name": "python3"
  },
  "language_info": {
   "codemirror_mode": {
    "name": "ipython",
    "version": 3
   },
   "file_extension": ".py",
   "mimetype": "text/x-python",
   "name": "python",
   "nbconvert_exporter": "python",
   "pygments_lexer": "ipython3",
   "version": "3.9.13 (tags/v3.9.13:6de2ca5, May 17 2022, 16:36:42) [MSC v.1929 64 bit (AMD64)]"
  },
  "vscode": {
   "interpreter": {
    "hash": "f9496efaa977fab12644c18b6d01742f48187930d155d9fd257eefdf60a7e718"
   }
  }
 },
 "nbformat": 4,
 "nbformat_minor": 5
}
